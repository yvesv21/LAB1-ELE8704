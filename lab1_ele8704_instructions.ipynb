{
 "cells": [
  {
   "cell_type": "markdown",
   "id": "7b9025d0-7904-47d0-a1b0-e5fad9a2e03c",
   "metadata": {},
   "source": [
    "## Laboratoire1 ele8704 \n",
    "   ##                                             Automne 2024"
   ]
  },
  {
   "cell_type": "markdown",
   "id": "2556b0eb-761e-4e4e-9579-cdc929556ca7",
   "metadata": {},
   "source": [
    "## Objectifs"
   ]
  },
  {
   "cell_type": "markdown",
   "id": "13e81dd3-56a7-421f-a05b-0742ba462a4b",
   "metadata": {},
   "source": [
    "Ce laboratoire a deux objectifs: \n",
    "\n",
    "1. la familiarisation informatique avec des librairies Python et \n",
    "\n",
    "2. approfondir les connaissances théoriques fournies dans le cours dans le cadre de la performance des réseaux. "
   ]
  },
  {
   "cell_type": "markdown",
   "id": "c6854dc5-bedc-48bb-ae4c-bb1b6576e414",
   "metadata": {},
   "source": [
    "## Contexte"
   ]
  },
  {
   "cell_type": "markdown",
   "id": "db5ee252-29b8-4e4f-affe-a87a4981b353",
   "metadata": {},
   "source": [
    "En files d'attentes le processus d'arrivée est souvent caractérisé par une distribution Poisson. Dans ce laboratoire, nous allons étudier les propriétés de la fusion et la défusion des processus d'arrivée Poisson. "
   ]
  },
  {
   "cell_type": "markdown",
   "id": "5b06d01c-bcf8-4ee1-b05e-9b66c9af8208",
   "metadata": {},
   "source": [
    "## Partie 1: Fusion de deux flots Poisson"
   ]
  },
  {
   "cell_type": "markdown",
   "id": "948a9803-a178-4a83-a569-9857d549f8c5",
   "metadata": {},
   "source": [
    "Démontrer que la fusion de deux flots de paquets ayant une distribution Poisson de paramètres $\\lambda_1$ et $\\lambda_2$,  respectivement, est un flot de paquets dont les arrivées sont Poisson de paramètre $\\lambda_1+\\lambda_2$. Considérer $\\lambda_1 \\neq \\lambda_2$. "
   ]
  },
  {
   "cell_type": "markdown",
   "id": "83e7347e-92e8-4bfc-9f25-b3f2f3ed692d",
   "metadata": {},
   "source": [
    "Pour ce faire vous devez:\n",
    "- Créer des échantillons de deux distributions d'arrivée de paquets Poissons de paramètres $\\lambda_1$ et $\\lambda_2$, respectivement\n",
    "- Fusionner les deux flots qui en résultent de ces deux échantillonages\n",
    "- Montrer que le taux de paquets du flot résultant est bel et bien $\\lambda_1+\\lambda_2$\n",
    "- Faire un graphique contenant un histogramme du résultat obtenu et comparer graphiquement l'ajustement avec quatre distributions bien connues\n",
    "- Trouver, en calculant la valeur p (p-value),  la meilleure distribution parmi celles choisies. Expliquer pourquoi ces résultats demontreraient que le flot fusionné serait Poisson\n",
    "- Montrer que votre solution est robuste aux variations de $\\lambda_1$ et $\\lambda_2$ ainsi qu'au nombre d'échantillons"
   ]
  },
  {
   "cell_type": "markdown",
   "id": "ddfb003a-53cb-4a7a-b65d-881b8d4ba246",
   "metadata": {},
   "source": [
    "## Partie 2: Fusion de deux flots non-Poisson"
   ]
  },
  {
   "cell_type": "markdown",
   "id": "29f420a3-fc49-4ea3-9bd4-32dd4d201244",
   "metadata": {},
   "source": [
    "Répéter l'exercice  de la Partie 1 ci-dessus mais avec deux flots de paquets qui ne suivent pas une distribution Poisson. \n",
    "Utiliser les même nombre d'échantillons que dans la Partie 1 ainsi que des paramètres d'entrée semblables mais ajustés aux nouvelles distributions du flot. Suivre les étapes entreprises dans la Partie 1 pour vérifier si l'hypothèse Poisson s'ajuste ou non au flot fusionné."
   ]
  },
  {
   "cell_type": "markdown",
   "id": "d8876f3e-0d1b-4e7d-b4f9-5de38a631750",
   "metadata": {},
   "source": [
    "## Partie 3: Bifurcation aléatoire d'un flot Poisson"
   ]
  },
  {
   "cell_type": "markdown",
   "id": "d22581bf-6a22-480b-8343-ab778184df23",
   "metadata": {},
   "source": [
    "Générer un flot Poisson et le défusionner pour que les deux flots qui en résultent soient Poisson également. Pur ce faire vous devez:\n",
    "- Créer des échantillons d'une distribution d'arrivée de paquets Poisson de paramètres $\\lambda_0$\n",
    "- Soumettre le flot qui en résulte à une bifurcation aléatoire, chaque flot résultant de la bifurcation ayant un taux $\\lambda_1$ et $\\lambda_2$, respectivement. \n",
    "- Montrer que $\\lambda_1+\\lambda_2 = \\lambda_0$\n",
    "- Pour chaque flot résultant:\n",
    "  \n",
    "    - Faire un graphique contenant un histogramme du résultat obtenu et comparer graphiquement l'ajustement avec quatre distributions bien connues\n",
    "    - Trouver, en calculant la valeur p (p-value),  la meilleure distribution parmi celles choisies. Expliquer pourquoi ces résultats demontreraient que le flot défusionné serait Poisson\n",
    "- Montrer que votre solution est robuste aux variations de $\\lambda_0$, au nombre d'échantillons et au paramètre de bifurcation"
   ]
  },
  {
   "cell_type": "markdown",
   "id": "783e931d-f96e-4a07-b7c6-bc3e3dbf8b16",
   "metadata": {},
   "source": [
    "## Partie 4: Bifurcation non-aléatoire d'un flot Poisson"
   ]
  },
  {
   "cell_type": "markdown",
   "id": "6398c08e-d12e-4fde-86a6-3e76c9815ba5",
   "metadata": {},
   "source": [
    "Répéter l'exercice  de la Partie 3 ci-dessus mais en utilisant une politique de défusion non-aléatoire.\n",
    "Utiliser le même nombre d'échantillons que dans la Partie 3 ainsi que des paramètres d'entrée semblables. Suivre les étapes entreprises dans la Partie 3 pour vérifier si l'hypothèse Poisson s'ajuste ou non aux flots défusionnés."
   ]
  },
  {
   "cell_type": "markdown",
   "id": "e82f2e58-8b69-4c2a-9f47-2cce3566faae",
   "metadata": {},
   "source": [
    "## Livrables et dépôt"
   ]
  },
  {
   "cell_type": "markdown",
   "id": "042bba49-8293-4422-a7be-135551041747",
   "metadata": {},
   "source": [
    "- Le Notebook Jupyter contenant les programmes, les résultats ainsi que vos réponses/commentaires pour chaque chaque Partie. Bien identifier chaque partie avec le titre utilisé dans ce document d'instructions.\n",
    "- Le Notebook Jupyter doit s'appeler ```ele8704_lab1_eqn.ipynb``` où ```eqn``` se refère au numéro de votre équipe. Par exemple s'il s'agit de l'équipe 15, le nom du fichier remis sera ```ele8704_lab1_eq15.ipynb```\n",
    "- Lors du dépôt sur Moodle, déposer le fichier directement, sans faire un zip. Un seul étudiant de l'équipe doit faire le dépôt."
   ]
  },
  {
   "cell_type": "markdown",
   "id": "05098af8-700c-4444-b591-d273b9980f8b",
   "metadata": {},
   "source": [
    "## Notes "
   ]
  },
  {
   "cell_type": "markdown",
   "id": "81f8db5e-fce7-4d6f-93cd-1abb4a5a2d09",
   "metadata": {},
   "source": [
    "- Utiliser ```1234``` comme germe de toutes les fonctions aléatoires\n",
    "- Utiliser exclusivement ```numpy```, ```matplotlib.pyplot``` et ```scipy.stats``` pour résoudre le laboratoire"
   ]
  },
  {
   "cell_type": "markdown",
   "id": "1fbf3b25-cc13-4436-a1be-4e0013821bd7",
   "metadata": {},
   "source": [
    "## Critères de correction"
   ]
  },
  {
   "cell_type": "markdown",
   "id": "566386f5-a535-4be5-a08c-dae254c10e8d",
   "metadata": {},
   "source": [
    "- Justesse de la démarche \n",
    "- Justesse des résultats   \n",
    "- Robustesse et scalabilité des solutions proposées\n",
    "- Justesse et qualité des commentaires"
   ]
  },
  {
   "cell_type": "markdown",
   "id": "09261f75-c484-4523-89f1-a6fe3865bf21",
   "metadata": {},
   "source": [
    "## Pénalités"
   ]
  },
  {
   "cell_type": "markdown",
   "id": "469d7de1-c9e2-4523-a0d3-df228a7f55bc",
   "metadata": {},
   "source": [
    "- 5 points de moins pour chaque consigne non-respectée\n",
    "- 10 points de moins si le labo est remis en retard la même jounée\n",
    "- 5 points de moins par journée additionnelle de retard\n",
    "- tout programme avec des erreurs de programmation aura la note zéro. \n"
   ]
  }
 ],
 "metadata": {
  "kernelspec": {
   "display_name": "Python 3 (ipykernel)",
   "language": "python",
   "name": "python3"
  },
  "language_info": {
   "codemirror_mode": {
    "name": "ipython",
    "version": 3
   },
   "file_extension": ".py",
   "mimetype": "text/x-python",
   "name": "python",
   "nbconvert_exporter": "python",
   "pygments_lexer": "ipython3",
   "version": "3.9.18"
  }
 },
 "nbformat": 4,
 "nbformat_minor": 5
}
